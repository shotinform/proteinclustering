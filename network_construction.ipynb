{
 "cells": [
  {
   "cell_type": "code",
   "execution_count": 1,
   "id": "5fc507ec",
   "metadata": {},
   "outputs": [
    {
     "name": "stdout",
     "output_type": "stream",
     "text": [
      "Index(['#BioGRID Interaction ID', 'Entrez Gene Interactor A',\n",
      "       'Entrez Gene Interactor B', 'BioGRID ID Interactor A',\n",
      "       'BioGRID ID Interactor B', 'Systematic Name Interactor A',\n",
      "       'Systematic Name Interactor B', 'Official Symbol Interactor A',\n",
      "       'Official Symbol Interactor B', 'Synonyms Interactor A',\n",
      "       'Synonyms Interactor B', 'Experimental System',\n",
      "       'Experimental System Type', 'Author', 'Pubmed ID',\n",
      "       'Organism Interactor A', 'Organism Interactor B', 'Throughput', 'Score',\n",
      "       'Modification', 'Phenotypes', 'Qualifications', 'Tags',\n",
      "       'Source Database'],\n",
      "      dtype='object')\n",
      "Index(['#BioGRID Interaction ID', 'Entrez Gene Interactor A',\n",
      "       'Entrez Gene Interactor B', 'BioGRID ID Interactor A',\n",
      "       'BioGRID ID Interactor B', 'Systematic Name Interactor A',\n",
      "       'Systematic Name Interactor B', 'Official Symbol Interactor A',\n",
      "       'Official Symbol Interactor B', 'Synonyms Interactor A',\n",
      "       'Synonyms Interactor B', 'Experimental System',\n",
      "       'Experimental System Type', 'Author', 'Pubmed ID',\n",
      "       'Organism Interactor A', 'Organism Interactor B', 'Throughput', 'Score',\n",
      "       'Modification', 'Phenotypes', 'Qualifications', 'Tags',\n",
      "       'Source Database'],\n",
      "      dtype='object')\n",
      "Index(['#BioGRID Interaction ID', 'Entrez Gene Interactor A',\n",
      "       'Entrez Gene Interactor B', 'BioGRID ID Interactor A',\n",
      "       'BioGRID ID Interactor B', 'Systematic Name Interactor A',\n",
      "       'Systematic Name Interactor B', 'Official Symbol Interactor A',\n",
      "       'Official Symbol Interactor B', 'Synonyms Interactor A',\n",
      "       'Synonyms Interactor B', 'Experimental System',\n",
      "       'Experimental System Type', 'Author', 'Pubmed ID',\n",
      "       'Organism Interactor A', 'Organism Interactor B', 'Throughput', 'Score',\n",
      "       'Modification', 'Phenotypes', 'Qualifications', 'Tags',\n",
      "       'Source Database'],\n",
      "      dtype='object')\n"
     ]
    },
    {
     "name": "stderr",
     "output_type": "stream",
     "text": [
      "/tmp/ipykernel_6217/1766974279.py:14: DtypeWarning: Columns (18) have mixed types. Specify dtype option on import or set low_memory=False.\n",
      "  df = pd.read_csv(file_path, delimiter='\\t')\n"
     ]
    }
   ],
   "source": [
    "import os\n",
    "import pandas as pd\n",
    "\n",
    "directory_path = 'files/construction_data/BioGRID'\n",
    "\n",
    "file_extension = '.txt'\n",
    "\n",
    "dataframes = []\n",
    "enterez_id_pairs = set()\n",
    "\n",
    "for file in os.listdir(directory_path):\n",
    "    if file.endswith(file_extension):\n",
    "        file_path = os.path.join(directory_path, file)\n",
    "        df = pd.read_csv(file_path, delimiter='\\t')\n",
    "        df = df[(df['Entrez Gene Interactor A'] != '-') & (df['Entrez Gene Interactor B'] != '-')]\n",
    "        df = df[df['Experimental System Type'] == 'physical']\n",
    "        df = df[(df['Official Symbol Interactor A'] != '-') & (df['Official Symbol Interactor B'] != '-')]\n",
    "        \n",
    "        dataframes.append(df)"
   ]
  },
  {
   "cell_type": "code",
   "execution_count": 7,
   "id": "b1485a03",
   "metadata": {},
   "outputs": [
    {
     "name": "stdout",
     "output_type": "stream",
     "text": [
      "Index(['#BioGRID Interaction ID', 'Entrez Gene Interactor A',\n",
      "       'Entrez Gene Interactor B', 'BioGRID ID Interactor A',\n",
      "       'BioGRID ID Interactor B', 'Systematic Name Interactor A',\n",
      "       'Systematic Name Interactor B', 'Official Symbol Interactor A',\n",
      "       'Official Symbol Interactor B', 'Synonyms Interactor A',\n",
      "       'Synonyms Interactor B', 'Experimental System',\n",
      "       'Experimental System Type', 'Author', 'Pubmed ID',\n",
      "       'Organism Interactor A', 'Organism Interactor B', 'Throughput', 'Score',\n",
      "       'Modification', 'Phenotypes', 'Qualifications', 'Tags',\n",
      "       'Source Database'],\n",
      "      dtype='object')\n"
     ]
    }
   ],
   "source": [
    "print(dataframes[0].columns)"
   ]
  },
  {
   "cell_type": "code",
   "execution_count": 3,
   "id": "9462e5b5",
   "metadata": {},
   "outputs": [],
   "source": [
    "official_names_mapping = {}\n",
    "for df in dataframes:\n",
    "    for index, row in df.iterrows():\n",
    "        id_a = str(row['Entrez Gene Interactor A'])\n",
    "        id_b = str(row['Entrez Gene Interactor B'])\n",
    "        \n",
    "        if id_a not in official_names_mapping:\n",
    "            official_names_mapping[id_a] = row['Official Symbol Interactor A']\n",
    "            \n",
    "        if id_b not in official_names_mapping:\n",
    "            official_names_mapping[id_b] = row['Official Symbol Interactor B']\n",
    "        \n",
    "        if id_a != id_b:\n",
    "            pair = tuple(sorted([id_a, id_b]))\n",
    "            enterez_id_pairs.add(pair)"
   ]
  },
  {
   "cell_type": "code",
   "execution_count": 4,
   "id": "40d37746",
   "metadata": {},
   "outputs": [
    {
     "data": {
      "text/plain": [
       "192650"
      ]
     },
     "execution_count": 4,
     "metadata": {},
     "output_type": "execute_result"
    }
   ],
   "source": [
    "len(enterez_id_pairs)"
   ]
  },
  {
   "cell_type": "code",
   "execution_count": 5,
   "id": "ff346157",
   "metadata": {},
   "outputs": [],
   "source": [
    "with open(\"files/network.sif\", \"w\") as file:\n",
    "    for pair in enterez_id_pairs:\n",
    "            first = official_names_mapping[pair[0]]\n",
    "            second = official_names_mapping[pair[1]]\n",
    "            \n",
    "            file.write(f\"{first}\\t-\\t{second}\\n\")"
   ]
  }
 ],
 "metadata": {
  "kernelspec": {
   "display_name": "Python 3 (ipykernel)",
   "language": "python",
   "name": "python3"
  },
  "language_info": {
   "codemirror_mode": {
    "name": "ipython",
    "version": 3
   },
   "file_extension": ".py",
   "mimetype": "text/x-python",
   "name": "python",
   "nbconvert_exporter": "python",
   "pygments_lexer": "ipython3",
   "version": "3.10.12"
  }
 },
 "nbformat": 4,
 "nbformat_minor": 5
}
