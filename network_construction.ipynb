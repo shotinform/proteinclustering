{
 "cells": [
  {
   "cell_type": "markdown",
   "id": "3ecd0409",
   "metadata": {},
   "source": [
    "##### Parsing Biogrid data"
   ]
  },
  {
   "cell_type": "code",
   "execution_count": 1,
   "id": "2edfe607",
   "metadata": {
    "scrolled": true
   },
   "outputs": [],
   "source": [
    "import os\n",
    "import pandas as pd\n",
    "\n",
    "directory_path = 'files/construction_data/BioGRID'\n",
    "\n",
    "file_extension = '.txt'\n",
    "\n",
    "dataframes = []\n",
    "enterez_id_pairs = set()\n",
    "\n",
    "for file in os.listdir(directory_path):\n",
    "    if file.endswith(file_extension):\n",
    "        file_path = os.path.join(directory_path, file)\n",
    "        df = pd.read_csv(file_path, delimiter='\\t')\n",
    "        df = df[~df['Experimental System'].isin(['Co-localization', 'Genetic interference'\n",
    "                                      'Synthetic Rescue', 'Synthetic Growth Defect',\n",
    "                                      'Synthetic Lethality'])]\n",
    "        df = df[(df['SWISS-PROT Accessions Interactor A'] != '-') & (df['SWISS-PROT Accessions Interactor B'] != '-')]\n",
    "        \n",
    "        dataframes.append(df)"
   ]
  },
  {
   "cell_type": "code",
   "execution_count": 2,
   "id": "c943facb",
   "metadata": {},
   "outputs": [
    {
     "data": {
      "text/plain": [
       "Index(['#BioGRID Interaction ID', 'Entrez Gene Interactor A',\n",
       "       'Entrez Gene Interactor B', 'BioGRID ID Interactor A',\n",
       "       'BioGRID ID Interactor B', 'Systematic Name Interactor A',\n",
       "       'Systematic Name Interactor B', 'Official Symbol Interactor A',\n",
       "       'Official Symbol Interactor B', 'Synonyms Interactor A',\n",
       "       'Synonyms Interactor B', 'Experimental System',\n",
       "       'Experimental System Type', 'Author', 'Publication Source',\n",
       "       'Organism ID Interactor A', 'Organism ID Interactor B', 'Throughput',\n",
       "       'Score', 'Modification', 'Qualifications', 'Tags', 'Source Database',\n",
       "       'SWISS-PROT Accessions Interactor A', 'TREMBL Accessions Interactor A',\n",
       "       'REFSEQ Accessions Interactor A', 'SWISS-PROT Accessions Interactor B',\n",
       "       'TREMBL Accessions Interactor B', 'REFSEQ Accessions Interactor B',\n",
       "       'Ontology Term IDs', 'Ontology Term Names', 'Ontology Term Categories',\n",
       "       'Ontology Term Qualifier IDs', 'Ontology Term Qualifier Names',\n",
       "       'Ontology Term Types', 'Organism Name Interactor A',\n",
       "       'Organism Name Interactor B'],\n",
       "      dtype='object')"
      ]
     },
     "execution_count": 2,
     "metadata": {},
     "output_type": "execute_result"
    }
   ],
   "source": [
    "dataframes[0].columns"
   ]
  },
  {
   "cell_type": "code",
   "execution_count": 3,
   "id": "43c6969a",
   "metadata": {
    "scrolled": true
   },
   "outputs": [],
   "source": [
    "official_names_mapping = {}\n",
    "for df in dataframes:\n",
    "    for index, row in df.iterrows():\n",
    "        id_a = str(row['SWISS-PROT Accessions Interactor A'])\n",
    "        id_b = str(row['SWISS-PROT Accessions Interactor B'])\n",
    "        \n",
    "        if id_a not in official_names_mapping:\n",
    "            official_names_mapping[id_a] = row['Official Symbol Interactor A']\n",
    "            \n",
    "        if id_b not in official_names_mapping:\n",
    "            official_names_mapping[id_b] = row['Official Symbol Interactor B']\n",
    "        \n",
    "        if id_a != id_b:\n",
    "            pair = tuple(sorted([id_a, id_b]))\n",
    "            enterez_id_pairs.add(pair)"
   ]
  },
  {
   "cell_type": "code",
   "execution_count": 4,
   "id": "45a36897",
   "metadata": {
    "scrolled": true
   },
   "outputs": [
    {
     "data": {
      "text/plain": [
       "{('O00170', 'O14576'),\n",
       " ('O00170', 'O14733'),\n",
       " ('O00170', 'O14874'),\n",
       " ('O00170', 'O15197'),\n",
       " ('O00170', 'O15392'),\n",
       " ('O00170', 'O43493'),\n",
       " ('O00170', 'O60260'),\n",
       " ('O00170', 'O60346'),\n",
       " ('O00170', 'O60885'),\n",
       " ('O00170', 'O75161'),\n",
       " ('O00170', 'O75170'),\n",
       " ('O00170', 'O75665'),\n",
       " ('O00170', 'O75953'),\n",
       " ('O00170', 'O76071'),\n",
       " ('O00170', 'O94761'),\n",
       " ('O00170', 'O94966'),\n",
       " ('O00170', 'O95140'),\n",
       " ('O00170', 'O95278'),\n",
       " ('O00170', 'O95999'),\n",
       " ('O00170', 'P00533'),\n",
       " ('O00170', 'P04049'),\n",
       " ('O00170', 'P04090'),\n",
       " ('O00170', 'P04626'),\n",
       " ('O00170', 'P04629'),\n",
       " ('O00170', 'P06239'),\n",
       " ('O00170', 'P06241'),\n",
       " ('O00170', 'P06733'),\n",
       " ('O00170', 'P06748'),\n",
       " ('O00170', 'P07900'),\n",
       " ('O00170', 'P07947'),\n",
       " ('O00170', 'P07949'),\n",
       " ('O00170', 'P08235'),\n",
       " ('O00170', 'P08238'),\n",
       " ('O00170', 'P09769'),\n",
       " ('O00170', 'P09936'),\n",
       " ('O00170', 'P0DTC9'),\n",
       " ('O00170', 'P0DTD1'),\n",
       " ('O00170', 'P0DTD2'),\n",
       " ('O00170', 'P10398'),\n",
       " ('O00170', 'P11279'),\n",
       " ('O00170', 'P11801'),\n",
       " ('O00170', 'P12931'),\n",
       " ('O00170', 'P13385'),\n",
       " ('O00170', 'P14616'),\n",
       " ('O00170', 'P16591'),\n",
       " ('O00170', 'P18031'),\n",
       " ('O00170', 'P22455'),\n",
       " ('O00170', 'P22607'),\n",
       " ('O00170', 'P22612'),\n",
       " ('O00170', 'P25445'),\n",
       " ('O00170', 'P27540'),\n",
       " ('O00170', 'P28676'),\n",
       " ('O00170', 'P29322'),\n",
       " ('O00170', 'P29376'),\n",
       " ('O00170', 'P31948'),\n",
       " ('O00170', 'P35244'),\n",
       " ('O00170', 'P35869'),\n",
       " ('O00170', 'P35916'),\n",
       " ('O00170', 'P38646'),\n",
       " ('O00170', 'P41002'),\n",
       " ('O00170', 'P41091'),\n",
       " ('O00170', 'P41182'),\n",
       " ('O00170', 'P43250'),\n",
       " ('O00170', 'P46777'),\n",
       " ('O00170', 'P48147'),\n",
       " ('O00170', 'P49715'),\n",
       " ('O00170', 'P49761'),\n",
       " ('O00170', 'P50148'),\n",
       " ('O00170', 'P50395'),\n",
       " ('O00170', 'P50406'),\n",
       " ('O00170', 'P50750'),\n",
       " ('O00170', 'P51451'),\n",
       " ('O00170', 'P51617'),\n",
       " ('O00170', 'P51817'),\n",
       " ('O00170', 'P53667'),\n",
       " ('O00170', 'P53671'),\n",
       " ('O00170', 'P55072'),\n",
       " ('O00170', 'P57058'),\n",
       " ('O00170', 'P62256'),\n",
       " ('O00170', 'P62879'),\n",
       " ('O00170', 'P68400'),\n",
       " ('O00170', 'Q04725'),\n",
       " ('O00170', 'Q05923'),\n",
       " ('O00170', 'Q07869'),\n",
       " ('O00170', 'Q08345'),\n",
       " ('O00170', 'Q0VAF6'),\n",
       " ('O00170', 'Q12948'),\n",
       " ('O00170', 'Q13216'),\n",
       " ('O00170', 'Q13409'),\n",
       " ('O00170', 'Q13418'),\n",
       " ('O00170', 'Q13946'),\n",
       " ('O00170', 'Q14004'),\n",
       " ('O00170', 'Q14201'),\n",
       " ('O00170', 'Q14344'),\n",
       " ('O00170', 'Q14432'),\n",
       " ('O00170', 'Q14596'),\n",
       " ('O00170', 'Q15181'),\n",
       " ('O00170', 'Q15185'),\n",
       " ('O00170', 'Q16543'),\n",
       " ('O00170', 'Q16620'),\n",
       " ('O00170', 'Q16654'),\n",
       " ('O00170', 'Q4VXA5'),\n",
       " ('O00170', 'Q53GS7'),\n",
       " ('O00170', 'Q58WW2'),\n",
       " ('O00170', 'Q59H18'),\n",
       " ('O00170', 'Q5T6F0'),\n",
       " ('O00170', 'Q5VTA0'),\n",
       " ('O00170', 'Q6IA69'),\n",
       " ('O00170', 'Q6P5Z2'),\n",
       " ('O00170', 'Q6PHR2'),\n",
       " ('O00170', 'Q6ZTA4'),\n",
       " ('O00170', 'Q7L5Y6'),\n",
       " ('O00170', 'Q7Z5U6'),\n",
       " ('O00170', 'Q86SG6'),\n",
       " ('O00170', 'Q86VP1'),\n",
       " ('O00170', 'Q86XK2'),\n",
       " ('O00170', 'Q8N3J3'),\n",
       " ('O00170', 'Q8N5D0'),\n",
       " ('O00170', 'Q8N5M4'),\n",
       " ('O00170', 'Q8TC44'),\n",
       " ('O00170', 'Q8TEB1'),\n",
       " ('O00170', 'Q8WV16'),\n",
       " ('O00170', 'Q8WWF6'),\n",
       " ('O00170', 'Q8WWR8'),\n",
       " ('O00170', 'Q92504'),\n",
       " ('O00170', 'Q92560'),\n",
       " ('O00170', 'Q92667'),\n",
       " ('O00170', 'Q92797'),\n",
       " ('O00170', 'Q92985'),\n",
       " ('O00170', 'Q969Q5'),\n",
       " ('O00170', 'Q969U6'),\n",
       " ('O00170', 'Q96BR1'),\n",
       " ('O00170', 'Q96DI7'),\n",
       " ('O00170', 'Q96GD4'),\n",
       " ('O00170', 'Q96HB5'),\n",
       " ('O00170', 'Q96JN0'),\n",
       " ('O00170', 'Q96MK2'),\n",
       " ('O00170', 'Q96QS6'),\n",
       " ('O00170', 'Q99952'),\n",
       " ('O00170', 'Q9BXA6'),\n",
       " ('O00170', 'Q9BXA7'),\n",
       " ('O00170', 'Q9BXN2'),\n",
       " ('O00170', 'Q9BY84'),\n",
       " ('O00170', 'Q9C0C7'),\n",
       " ('O00170', 'Q9H2U2'),\n",
       " ('O00170', 'Q9H4B4'),\n",
       " ('O00170', 'Q9H4M7'),\n",
       " ('O00170', 'Q9H6Z9'),\n",
       " ('O00170', 'Q9HBL8'),\n",
       " ('O00170', 'Q9HBY8'),\n",
       " ('O00170', 'Q9NR20'),\n",
       " ('O00170', 'Q9NUL5'),\n",
       " ('O00170', 'Q9NVR5'),\n",
       " ('O00170', 'Q9NWT6'),\n",
       " ('O00170', 'Q9NX05'),\n",
       " ('O00170', 'Q9NXB0'),\n",
       " ('O00170', 'Q9NYS7'),\n",
       " ('O00170', 'Q9UGI0'),\n",
       " ('O00170', 'Q9UL18'),\n",
       " ('O00170', 'Q9UL54'),\n",
       " ('O00170', 'Q9Y2Z0'),\n",
       " ('O00170', 'Q9Y3Z3'),\n",
       " ('O00170', 'Q9Y6J8'),\n",
       " ('O00170', 'Q9Y6K9')}"
      ]
     },
     "execution_count": 4,
     "metadata": {},
     "output_type": "execute_result"
    }
   ],
   "source": [
    "enterez_id_pairs"
   ]
  },
  {
   "cell_type": "code",
   "execution_count": 5,
   "id": "6bafe1c7",
   "metadata": {},
   "outputs": [
    {
     "data": {
      "text/plain": [
       "164"
      ]
     },
     "execution_count": 5,
     "metadata": {},
     "output_type": "execute_result"
    }
   ],
   "source": [
    "len(enterez_id_pairs)"
   ]
  },
  {
   "cell_type": "markdown",
   "id": "9c4a0223",
   "metadata": {},
   "source": [
    "### Parsing IntaAct"
   ]
  },
  {
   "cell_type": "markdown",
   "id": "9e95d826",
   "metadata": {},
   "source": [
    "Nije potrebno dodatno filtriranje, svo filitriranje odradjeno prilikom preuzimanja podataka."
   ]
  },
  {
   "cell_type": "code",
   "execution_count": 6,
   "id": "a16885ff",
   "metadata": {},
   "outputs": [],
   "source": [
    "directory_path = 'files/construction_data/IntAct'\n",
    "file_extension = '.txt'\n",
    "dataframes = []\n",
    "\n",
    "for file in os.listdir(directory_path):\n",
    "    if file.endswith(file_extension):\n",
    "        file_path = os.path.join(directory_path, file)\n",
    "        df = pd.read_csv(file_path, delimiter='\\t')\n",
    "        dataframes.append(df)"
   ]
  },
  {
   "cell_type": "code",
   "execution_count": 7,
   "id": "9e6c7b70",
   "metadata": {},
   "outputs": [],
   "source": [
    "import re\n",
    "\n",
    "def get_gene_name(text):\n",
    "    print(text)\n",
    "    pattern1 = re.compile(r'uniprotkb:([a-zA-Z0-9_-]+?)\\(gene name\\)')\n",
    "    pattern2 = re.compile(r'psi-mi:([a-zA-Z0-9_-]+?)\\(display_short\\)')\n",
    "    match1 = pattern1.search(text)\n",
    "    if match1:\n",
    "        return match1.group(1)\n",
    "    else:\n",
    "        match2 = pattern2.search(text)\n",
    "        result = match2.group(1)\n",
    "        if result.endswith('_human'):\n",
    "            result = result[:-6]\n",
    "        return result\n",
    "\n",
    "def get_swiss_id(text):\n",
    "    pattern = re.compile(r'uniprotkb:(\\w+)')\n",
    "    match = pattern.search(text)\n",
    "    if match:\n",
    "        return match.group(1)\n",
    "    else:\n",
    "        return None"
   ]
  },
  {
   "cell_type": "code",
   "execution_count": 8,
   "id": "4faf41de",
   "metadata": {
    "scrolled": false
   },
   "outputs": [
    {
     "name": "stdout",
     "output_type": "stream",
     "text": [
      "psi-mi:pde2a_human(display_short)|psi-mi:cGMP-dependent 3',5'-cyclic phosphodiesterase(display_long)|uniprotkb:PDE2A(gene name)|uniprotkb:Cyclic GMP-stimulated phosphodiesterase(gene name synonym)\n",
      "psi-mi:max_human(display_short)|psi-mi:Protein max(display_long)|uniprotkb:MAX(gene name)|uniprotkb:Myc-associated factor X(gene name synonym)|uniprotkb:Class D basic helix-loop-helix protein 4(gene name synonym)|uniprotkb:BHLHD4(gene name synonym)|IntAct:NM_002382(author assigned name)|IntAct:4149(author assigned name)\n",
      "psi-mi:ebna3_ebvb9(display_short)|psi-mi:Epstein-Barr nuclear antigen 3(display_long)|uniprotkb:Epstein-Barr nuclear antigen 3A(gene name synonym)|uniprotkb:BLRF3-BERF1(orf name)|uniprotkb:EBNA3(gene name)\n",
      "psi-mi:rmp_human(display_short)|psi-mi:Unconventional prefoldin RPB5 interactor 1(display_long)|uniprotkb:URI1(gene name)|uniprotkb:C19orf2(gene name synonym)|uniprotkb:NNX3(gene name synonym)|uniprotkb:PPP1R19(gene name synonym)|uniprotkb:Protein NNX3(gene name synonym)|uniprotkb:Protein phosphatase 1 regulatory subunit 19(gene name synonym)|uniprotkb:RMP(gene name synonym)|uniprotkb:RNA polymerase II subunit 5-mediating protein(gene name synonym)|uniprotkb:URI(gene name synonym)|IntAct:URI1(author assigned name)\n",
      "psi-mi:q86sx1_human(display_short)|IntAct:HSP90AA1(author assigned name)\n",
      "psi-mi:k9ja46_human(display_short)|psi-mi:Heat shock protein HSP 90-alpha(display_long)|uniprotkb:EL52(gene name)|uniprotkb:HEL-S-65p(gene name synonym)|IntAct:HSP90AA1(author assigned name)\n",
      "psi-mi:q308m6_human(display_short)|psi-mi:DNA polymerase(display_long)|IntAct:POLD1(author assigned name)\n",
      "psi-mi:q53g83_human(display_short)|psi-mi:Small ribosomal subunit protein uS3(display_long)|uniprotkb:40S ribosomal protein S3(gene name synonym)|IntAct:Rps3(author assigned name)\n",
      "psi-mi:q53sm6_human(display_short)|uniprotkb:EPAS1(gene name)|IntAct:EPAS1(author assigned name)\n",
      "psi-mi:a0a0h3nf38_salts(display_short)|psi-mi:RING-type E3 ubiquitin transferase(display_long)|uniprotkb:G1W50_06135(orf name)|uniprotkb:G1W92_13600(orf name)|uniprotkb:G1X04_24335(orf name)|uniprotkb:G1X42_13600(orf name)|uniprotkb:SL1344_2217(locus name)|uniprotkb:sspH2(gene name)\n",
      "psi-mi:pra10_human(display_short)|psi-mi:PRAME family member 10(display_long)|uniprotkb:PRAMEF10(gene name)|IntAct:PRAMEF10(author assigned name)\n",
      "psi-mi:nbel2_human(display_short)|psi-mi:Neurobeachin-like protein 2(display_long)|uniprotkb:KIAA0540(gene name synonym)|uniprotkb:UNQ253/PRO290(orf name)|uniprotkb:NBEAL2(gene name)\n",
      "psi-mi:pde4a_rat(display_short)|psi-mi:3',5'-cyclic-AMP phosphodiesterase 4A(display_long)|uniprotkb:PDE4A(gene name)|uniprotkb:cAMP-specific phosphodiesterase 4A(gene name synonym)|uniprotkb:DPDE2(gene name synonym)\n",
      "psi-mi:hlaa_human(display_short)|psi-mi:HLA class I histocompatibility antigen, A alpha chain(display_long)|uniprotkb:HLA-A(gene name)|uniprotkb:Human leukocyte antigen A(gene name synonym)|uniprotkb:HLAA(gene name synonym)\n",
      "psi-mi:cftr_human(display_short)|psi-mi:Cystic fibrosis transmembrane conductance regulator(display_long)|uniprotkb:CFTR(gene name)|uniprotkb:Channel conductance-controlling ATPase(gene name synonym)|uniprotkb:ATP-binding cassette sub-family C member 7(gene name synonym)|uniprotkb:cAMP-dependent chloride channel(gene name synonym)|uniprotkb:ABCC7(gene name synonym)\n",
      "psi-mi:wipi2_human(display_short)|psi-mi:WD repeat domain phosphoinositide-interacting protein 2(display_long)|uniprotkb:WIPI49-like protein 2(gene name synonym)|uniprotkb:CGI-50(orf name)|uniprotkb:WIPI2(gene name)|IntAct:WIPI2(author assigned name)\n",
      "psi-mi:swap1_human(display_short)|psi-mi:ATPase SWSAP1(display_long)|uniprotkb:C19orf39(gene name synonym)|uniprotkb:SWIM-type zinc finger 7-associated protein 1(gene name synonym)|uniprotkb:SWS1-associated protein 1(gene name synonym)|uniprotkb:ZSWIM7-associated protein 1(gene name synonym)|uniprotkb:SWSAP1(gene name)\n",
      "psi-mi:sim2_human(display_short)|psi-mi:Single-minded homolog 2(display_long)|uniprotkb:BHLHE15(gene name synonym)|uniprotkb:Class E basic helix-loop-helix protein 15(gene name synonym)|uniprotkb:SIM2(gene name)|IntAct:SIM2(author assigned name)\n"
     ]
    }
   ],
   "source": [
    "for df in dataframes:\n",
    "    for index, row in df.iterrows():\n",
    "        id_a = get_swiss_id(row['# ID(s) interactor A'])\n",
    "        id_b = get_swiss_id(row['ID(s) interactor B'])\n",
    "        \n",
    "        if id_a == None or id_b == None:\n",
    "            continue\n",
    "        \n",
    "        if id_a not in official_names_mapping:\n",
    "            official_names_mapping[id_a] = get_gene_name(row['Alias(es) interactor A'])\n",
    "            \n",
    "        if id_b not in official_names_mapping:\n",
    "            official_names_mapping[id_b] = get_gene_name(row['Alias(es) interactor B'])\n",
    "        \n",
    "        if id_a != id_b:\n",
    "            pair = tuple(sorted([id_a, id_b]))\n",
    "            enterez_id_pairs.add(pair)"
   ]
  },
  {
   "cell_type": "code",
   "execution_count": 9,
   "id": "6b99c711",
   "metadata": {},
   "outputs": [
    {
     "data": {
      "text/plain": [
       "182"
      ]
     },
     "execution_count": 9,
     "metadata": {},
     "output_type": "execute_result"
    }
   ],
   "source": [
    "len(enterez_id_pairs)"
   ]
  },
  {
   "cell_type": "code",
   "execution_count": 10,
   "id": "4f8f3b58",
   "metadata": {},
   "outputs": [],
   "source": [
    "with open(\"files/network.sif\", \"w\") as file:\n",
    "    for pair in enterez_id_pairs:\n",
    "            first = official_names_mapping[pair[0]]\n",
    "            second = official_names_mapping[pair[1]]\n",
    "            \n",
    "            file.write(f\"{first}\\t-\\t{second}\\n\")"
   ]
  }
 ],
 "metadata": {
  "kernelspec": {
   "display_name": "Python 3 (ipykernel)",
   "language": "python",
   "name": "python3"
  },
  "language_info": {
   "codemirror_mode": {
    "name": "ipython",
    "version": 3
   },
   "file_extension": ".py",
   "mimetype": "text/x-python",
   "name": "python",
   "nbconvert_exporter": "python",
   "pygments_lexer": "ipython3",
   "version": "3.10.12"
  }
 },
 "nbformat": 4,
 "nbformat_minor": 5
}
