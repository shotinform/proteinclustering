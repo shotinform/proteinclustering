{
 "cells": [
  {
   "cell_type": "markdown",
   "id": "3ecd0409",
   "metadata": {},
   "source": [
    "##### Parsing Biogrid data"
   ]
  },
  {
   "cell_type": "code",
   "execution_count": 1,
   "id": "2edfe607",
   "metadata": {
    "scrolled": true
   },
   "outputs": [],
   "source": [
    "import os\n",
    "import pandas as pd\n",
    "\n",
    "directory_path = 'files/construction_data'\n",
    "\n",
    "file_extension = '.txt'\n",
    "\n",
    "dataframes = []\n",
    "enterez_id_pairs = set()\n",
    "\n",
    "for file in os.listdir(directory_path):\n",
    "    if file.endswith(file_extension):\n",
    "        file_path = os.path.join(directory_path, file)\n",
    "        df = pd.read_csv(file_path, delimiter='\\t')\n",
    "        df = df[~df['Experimental System'].isin(['Co-localization', 'Genetic interference'\n",
    "                                      'Synthetic Rescue', 'Synthetic Growth Defect',\n",
    "                                      'Synthetic Lethality'])]\n",
    "        df = df[(df['Entrez Gene Interactor A'] != '-') & (df['Entrez Gene Interactor B'] != '-')]\n",
    "        \n",
    "        dataframes.append(df)"
   ]
  },
  {
   "cell_type": "code",
   "execution_count": 15,
   "id": "43c6969a",
   "metadata": {},
   "outputs": [],
   "source": [
    "official_names_mapping = {}\n",
    "for df in dataframes:\n",
    "    for index, row in df.iterrows():\n",
    "        id_a = str(row['Entrez Gene Interactor A'])\n",
    "        id_b = str(row['Entrez Gene Interactor B'])\n",
    "        \n",
    "        if id_a not in official_names_mapping:\n",
    "            official_names_mapping[id_a] = row['Official Symbol Interactor A']\n",
    "            \n",
    "        if id_b not in official_names_mapping:\n",
    "            official_names_mapping[id_b] = row['Official Symbol Interactor B']\n",
    "        \n",
    "        if id_a != id_b:\n",
    "            pair = tuple(sorted([int(id_a), int(id_b)]))\n",
    "            pair = tuple([str(pair[0]), str(pair[1])])\n",
    "            enterez_id_pairs.add(pair)"
   ]
  },
  {
   "cell_type": "code",
   "execution_count": 17,
   "id": "f3abd57e",
   "metadata": {},
   "outputs": [],
   "source": [
    "with open(\"files/network.sif\", \"w\") as file:\n",
    "    for pair in enterez_id_pairs:\n",
    "            first = official_names_mapping[pair[0]]\n",
    "            second = official_names_mapping[pair[1]]\n",
    "            \n",
    "            if first != 'No symbol found' and second != 'No symbol found':\n",
    "                file.write(f\"{first}\\t-\\t{second}\\n\")"
   ]
  }
 ],
 "metadata": {
  "kernelspec": {
   "display_name": "Python 3 (ipykernel)",
   "language": "python",
   "name": "python3"
  },
  "language_info": {
   "codemirror_mode": {
    "name": "ipython",
    "version": 3
   },
   "file_extension": ".py",
   "mimetype": "text/x-python",
   "name": "python",
   "nbconvert_exporter": "python",
   "pygments_lexer": "ipython3",
   "version": "3.10.12"
  }
 },
 "nbformat": 4,
 "nbformat_minor": 5
}
