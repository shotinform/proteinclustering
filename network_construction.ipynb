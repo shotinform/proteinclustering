{
 "cells": [
  {
   "cell_type": "markdown",
   "id": "6305c9c0",
   "metadata": {},
   "source": [
    "Filtriramo prema uslovima koje nismo mogli da postavimo u \"biogrid_download.py\" skripti."
   ]
  },
  {
   "cell_type": "code",
   "execution_count": 7,
   "id": "5fc507ec",
   "metadata": {
    "scrolled": false
   },
   "outputs": [
    {
     "name": "stdout",
     "output_type": "stream",
     "text": [
      "99685\n",
      "81277\n",
      "98144\n"
     ]
    },
    {
     "name": "stderr",
     "output_type": "stream",
     "text": [
      "/tmp/ipykernel_29604/929880889.py:14: DtypeWarning: Columns (18) have mixed types. Specify dtype option on import or set low_memory=False.\n",
      "  df = pd.read_csv(file_path, delimiter='\\t')\n"
     ]
    }
   ],
   "source": [
    "import os\n",
    "import pandas as pd\n",
    "\n",
    "directory_path = 'files/construction_data/BioGRID'\n",
    "\n",
    "file_extension = '.txt'\n",
    "\n",
    "dataframes = []\n",
    "enterez_id_pairs = set()\n",
    "\n",
    "for file in os.listdir(directory_path):\n",
    "    if file.endswith(file_extension):\n",
    "        file_path = os.path.join(directory_path, file)\n",
    "        df = pd.read_csv(file_path, delimiter='\\t')\n",
    "        df = df[(df['Entrez Gene Interactor A'] != '-') & (df['Entrez Gene Interactor B'] != '-')]\n",
    "        df = df[df['Experimental System Type'] == 'physical']\n",
    "        df = df[(df['Official Symbol Interactor A'] != '-') & (df['Official Symbol Interactor B'] != '-')]\n",
    "        print(len(df))      \n",
    "        dataframes.append(df)"
   ]
  },
  {
   "cell_type": "code",
   "execution_count": 8,
   "id": "b1485a03",
   "metadata": {},
   "outputs": [
    {
     "name": "stdout",
     "output_type": "stream",
     "text": [
      "Index(['#BioGRID Interaction ID', 'Entrez Gene Interactor A',\n",
      "       'Entrez Gene Interactor B', 'BioGRID ID Interactor A',\n",
      "       'BioGRID ID Interactor B', 'Systematic Name Interactor A',\n",
      "       'Systematic Name Interactor B', 'Official Symbol Interactor A',\n",
      "       'Official Symbol Interactor B', 'Synonyms Interactor A',\n",
      "       'Synonyms Interactor B', 'Experimental System',\n",
      "       'Experimental System Type', 'Author', 'Pubmed ID',\n",
      "       'Organism Interactor A', 'Organism Interactor B', 'Throughput', 'Score',\n",
      "       'Modification', 'Phenotypes', 'Qualifications', 'Tags',\n",
      "       'Source Database'],\n",
      "      dtype='object')\n"
     ]
    }
   ],
   "source": [
    "print(dataframes[0].columns)"
   ]
  },
  {
   "cell_type": "markdown",
   "id": "1211f8e8",
   "metadata": {},
   "source": [
    "Koristimo entrezId pošto zvanična imena često imaju sinonime, koristimo skup da bi ne bi imali duplikate, takodje mapiramo izmedju entrezId i prvog zvaničnog imena na koje naletimo za taj gen (to ime ćemo koristiti)."
   ]
  },
  {
   "cell_type": "code",
   "execution_count": 9,
   "id": "9462e5b5",
   "metadata": {},
   "outputs": [],
   "source": [
    "official_names_mapping = {}\n",
    "for df in dataframes:\n",
    "    for index, row in df.iterrows():\n",
    "        id_a = str(row['Entrez Gene Interactor A'])\n",
    "        id_b = str(row['Entrez Gene Interactor B'])\n",
    "        \n",
    "        if id_a not in official_names_mapping:\n",
    "            official_names_mapping[id_a] = row['Official Symbol Interactor A']\n",
    "            \n",
    "        if id_b not in official_names_mapping:\n",
    "            official_names_mapping[id_b] = row['Official Symbol Interactor B']\n",
    "        \n",
    "        if id_a != id_b:\n",
    "            pair = tuple(sorted([id_a, id_b]))\n",
    "            enterez_id_pairs.add(pair)"
   ]
  },
  {
   "cell_type": "code",
   "execution_count": 10,
   "id": "40d37746",
   "metadata": {},
   "outputs": [
    {
     "data": {
      "text/plain": [
       "192650"
      ]
     },
     "execution_count": 10,
     "metadata": {},
     "output_type": "execute_result"
    }
   ],
   "source": [
    "len(enterez_id_pairs)"
   ]
  },
  {
   "cell_type": "markdown",
   "id": "cd571619",
   "metadata": {},
   "source": [
    "Čuvamo mrežu u odgovarajućem formatu."
   ]
  },
  {
   "cell_type": "code",
   "execution_count": 11,
   "id": "ff346157",
   "metadata": {},
   "outputs": [],
   "source": [
    "with open(\"files/network.sif\", \"w\") as file:\n",
    "    for pair in enterez_id_pairs:\n",
    "            first = official_names_mapping[pair[0]]\n",
    "            second = official_names_mapping[pair[1]]\n",
    "            \n",
    "            file.write(f\"{first}\\t-\\t{second}\\n\")"
   ]
  },
  {
   "cell_type": "markdown",
   "id": "6448f2fe",
   "metadata": {},
   "source": [
    "# Bojenje čvorova"
   ]
  },
  {
   "cell_type": "markdown",
   "id": "cd4bccde",
   "metadata": {},
   "source": [
    "Pravimo skupove prema kojima ćemo da bojimo čvorove."
   ]
  },
  {
   "cell_type": "code",
   "execution_count": 6,
   "id": "cb838f86",
   "metadata": {},
   "outputs": [
    {
     "data": {
      "text/plain": [
       "<matplotlib_venn._common.VennDiagram at 0x7ec6d5f08d90>"
      ]
     },
     "execution_count": 6,
     "metadata": {},
     "output_type": "execute_result"
    },
    {
     "data": {
      "image/png": "[encoded data removed]",
      "text/plain": [
       "<Figure size 640x480 with 1 Axes>"
      ]
     },
     "metadata": {},
     "output_type": "display_data"
    }
   ],
   "source": [
    "import pandas as pd\n",
    "from matplotlib_venn import venn3\n",
    "import matplotlib.pyplot as plt\n",
    "\n",
    "file_path = 'files/disease_genes/original_genes.xlsx'\n",
    "file_names = ['genes_PTA', 'genes_T2D', 'genes_CVD']\n",
    "\n",
    "df1 = pd.read_excel(file_path, sheet_name=file_names[0])\n",
    "df2 = pd.read_excel(file_path, sheet_name=file_names[1])\n",
    "df3 = pd.read_excel(file_path, sheet_name=file_names[2])\n",
    "\n",
    "genes_PTA = set(df1['Gene'])\n",
    "genes_T2D = set(df2['Gene'])\n",
    "genes_CVD = set(df3['Gene'])\n",
    "\n",
    "intersection_PTA_T2D_not_CVD = (genes_PTA & genes_T2D) - genes_CVD\n",
    "intersection_PTA_CVD_not_T2D = (genes_PTA & genes_CVD) - genes_T2D\n",
    "intersection_T2D_CVD_not_PTA = (genes_T2D & genes_CVD) - genes_PTA\n",
    "intersection_PTA_CVD_T2D = genes_CVD & genes_PTA & genes_T2D\n",
    "\n",
    "venn3([genes_PTA, genes_T2D, genes_CVD], ('PTA', 'T2D', 'CVD'))"
   ]
  },
  {
   "cell_type": "markdown",
   "id": "d5ac7fb1",
   "metadata": {},
   "source": [
    "Kod koji boji mrežu odgovarajućom bojom. Pre pocetka izvršavanja ovog koda učitali smo 'files/network.sif' u 'cys_visualizations/output_network.cys'."
   ]
  },
  {
   "cell_type": "code",
   "execution_count": 7,
   "id": "5a7884a0",
   "metadata": {},
   "outputs": [
    {
     "name": "stdout",
     "output_type": "stream",
     "text": [
      "You are connected to Cytoscape!\n",
      "Opening /home/korisnik/Desktop/ip2/proteinclustering/cys_visualizations/output_network.cys...\n",
      "Mreža je učitana, čvorovi su obojeni i sačuvani u output_network_.cys.\n"
     ]
    }
   ],
   "source": [
    "import py4cytoscape as p4c\n",
    "\n",
    "\n",
    "p4c.cytoscape_ping()\n",
    "# Otvaranje sesije iz datog fajla\n",
    "p4c.session.open_session('cys_visualizations/output_network.cys')\n",
    "\n",
    "network_suid = p4c.networks.get_network_suid()\n",
    "\n",
    "def get_node_color(node):\n",
    "    if node in intersection_PTA_CVD_T2D:\n",
    "        return '#A020F0'  \n",
    "    elif node in intersection_PTA_T2D_not_CVD:\n",
    "        return '#FFD580'  \n",
    "    elif node in intersection_T2D_CVD_not_PTA:\n",
    "        return '#ADD8E6'  \n",
    "    elif node in intersection_PTA_CVD_not_T2D:\n",
    "        return '#FF1493'  \n",
    "    elif node in genes_PTA:\n",
    "        return '#FF0000'  \n",
    "    elif node in genes_CVD:\n",
    "        return '#0000FF'  \n",
    "    elif node in genes_T2D:\n",
    "        return '#008000'  \n",
    "    else:\n",
    "        return '#CCCCCC'  \n",
    "\n",
    "# Dohvatamo čvorove\n",
    "node_table = p4c.tables.get_table_columns('node', columns='name')\n",
    "node_names = node_table['name'].tolist()  \n",
    "\n",
    "node_colors = [get_node_color(node) for node in node_names]\n",
    "\n",
    "try:\n",
    "    p4c.style_bypasses.set_node_property_bypass(node_names, node_colors, visual_property='NODE_FILL_COLOR')\n",
    "except Exception as e:\n",
    "    print(f\"Greška prilikom primene boja na čvorove: {e}\")\n",
    "    exit()\n",
    "## \n",
    "cys_file_path = 'output_network_.cys'\n",
    "try:\n",
    "    p4c.session.save_session(cys_file_path)\n",
    "    print(f\"Mreža je učitana, čvorovi su obojeni i sačuvani u {cys_file_path}.\")\n",
    "except Exception as e:\n",
    "    print(f\"Greška prilikom čuvanja sesije: {e}\")"
   ]
  },
  {
   "cell_type": "code",
   "execution_count": 31,
   "id": "9327c099",
   "metadata": {},
   "outputs": [],
   "source": [
    "from Bio import ExPASy\n",
    "from Bio import SwissProt\n",
    "\n",
    "# Funckija koja traži preslikavanje izmedju Entry Name i Gene name, koristi se ukoliko odkomentraišemo kod u funckiji\n",
    "# ispod, previše sporo radi za preveliki broj preslikavanja.\n",
    "\n",
    "def search_uniprot(query):\n",
    "    try:\n",
    "        handle = ExPASy.get_sprot_raw(query)\n",
    "        record = SwissProt.read(handle)\n",
    "        return record\n",
    "    except ValueError as e:\n",
    "        print(f\"Error: {e}\")\n",
    "        return None\n",
    "\n",
    "# Učitavamo fajl koji sadrži preslikavanja\n",
    "entry_name_mapping = pd.read_csv(\"files/disease_genes/mapping_gene_name_to_entry_name\", sep=',')\n",
    "\n",
    "# Preslikavanje izmedju Entry Name i Gene name i vraća boju čvora, funckioniše prema podacima koje smo preuzeli sa\n",
    "# https://www.uniprot.org, pokriva većinu preslikavanja.\n",
    "\n",
    "def map_and_get_node_color(node):\n",
    "    filtered_rows = entry_name_mapping[entry_name_mapping['Entry Name'] == node]\n",
    "    \n",
    "    for index, row in filtered_rows.iterrows():\n",
    "        gene_name = row['From']\n",
    "        node_colour = get_node_color(gene_name)\n",
    "        \n",
    "        if node_colour != \"#CCCCCC\":\n",
    "            return node_colour\n",
    "        \n",
    "    return \"#CCCCCC\"\n",
    "     \n",
    "    # Dodatna pretraga preko interneta ukoliko gore ne pronadjemo preslikavanje, potrebno dosta vremena po upitu\n",
    "    \n",
    "    #record = search_uniprot(node)\n",
    "\n",
    "    #if record:\n",
    "    #    gene_name = search_uniprot(node).gene_name[0]['Name'].split(\" \")[0]\n",
    "    #    entry_name_mapping[node] = gene_name\n",
    "    #    get_node_color(gene_name)\n",
    "    #else:\n",
    "    #    return \"#CCCCCC\""
   ]
  },
  {
   "cell_type": "markdown",
   "id": "26be756c",
   "metadata": {},
   "source": [
    "Sada bojimo sve klastere, potrebno otvoriti \"sesiju\" u kojoj su već učitane mreže."
   ]
  },
  {
   "cell_type": "code",
   "execution_count": 36,
   "id": "557658e6",
   "metadata": {},
   "outputs": [
    {
     "name": "stdout",
     "output_type": "stream",
     "text": [
      "module_4.1.sif\n",
      "module_13.1.sif\n",
      "module_15.sif\n",
      "module_7.4.sif\n",
      "module_6.sif\n",
      "module_3.sif\n",
      "module_14.sif\n",
      "module_13.sif\n",
      "module_2.sif\n",
      "module_4.sif\n",
      "module_11.sif\n",
      "module_8.2.sif\n",
      "module_7.2.sif\n",
      "module_12.sif\n",
      "module_5.sif\n",
      "module_9.sif\n",
      "module_11.1.sif\n",
      "module_8.1.sif\n",
      "module_10.sif\n",
      "module_1.sif\n",
      "module_7.1.sif\n",
      "module_2.1.sif\n",
      "module_9.1.sif\n",
      "module_8.sif\n",
      "module_7.3.sif\n",
      "module_7.sif\n",
      "Sve mreže su obojene i sačuvane u combined_networks_colored_.cys.\n"
     ]
    }
   ],
   "source": [
    "# Za otovorenu sesiju dohvata spisak svih mreža\n",
    "network_list = p4c.networks.get_network_list()\n",
    "\n",
    "# Iteriraj kroz svaku mrežu i oboji čvorove\n",
    "for network_name in network_list:\n",
    "    try:\n",
    "        print(network_name)\n",
    "        p4c.networks.set_current_network(network_name)\n",
    "        \n",
    "        node_table = p4c.tables.get_table_columns('node', columns='name')\n",
    "        node_names = node_table['name'].tolist()\n",
    "        \n",
    "        # Odredjivanje boje\n",
    "        node_colors = [map_and_get_node_color(node) for node in node_names]\n",
    "        \n",
    "        # Postavljanje izgleda čvora\n",
    "        try:\n",
    "            p4c.style_bypasses.set_node_property_bypass(node_names, node_colors, visual_property='NODE_FILL_COLOR')\n",
    "            p4c.style_bypasses.set_node_property_bypass(node_names, 35, visual_property='NODE_WIDTH')\n",
    "            p4c.style_bypasses.set_node_property_bypass(node_names, 35, visual_property='NODE_HEIGHT')\n",
    "            p4c.style_bypasses.set_node_property_bypass(node_names, 'ELLIPSE', visual_property='NODE_SHAPE')\n",
    "            \n",
    "        except Exception as e:\n",
    "            print(f\"Greška prilikom primene boja na čvorove u mreži {network_name}: {e}\")\n",
    "            continue\n",
    "\n",
    "    except Exception as e:\n",
    "        print(f\"Greška prilikom obrade mreže {network_name}: {e}\")\n",
    "\n",
    "# Sačuvaj sesiju\n",
    "cys_file_path = 'combined_networks_colored_.cys'\n",
    "try:\n",
    "    p4c.session.save_session(cys_file_path)\n",
    "    print(f\"Sve mreže su obojene i sačuvane u {cys_file_path}.\")\n",
    "except Exception as e:\n",
    "    print(f\"Greška prilikom čuvanja sesije: {e}\")"
   ]
  }
 ],
 "metadata": {
  "kernelspec": {
   "display_name": "Python 3 (ipykernel)",
   "language": "python",
   "name": "python3"
  },
  "language_info": {
   "codemirror_mode": {
    "name": "ipython",
    "version": 3
   },
   "file_extension": ".py",
   "mimetype": "text/x-python",
   "name": "python",
   "nbconvert_exporter": "python",
   "pygments_lexer": "ipython3",
   "version": "3.10.12"
  }
 },
 "nbformat": 4,
 "nbformat_minor": 5
}
