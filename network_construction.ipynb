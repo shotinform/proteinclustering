{
 "cells": [
  {
   "cell_type": "markdown",
   "id": "9f6c9e16",
   "metadata": {},
   "source": [
    "##### Parsing Biogrid data"
   ]
  },
  {
   "cell_type": "code",
   "execution_count": 1,
   "id": "b42e2c76",
   "metadata": {
    "scrolled": true
   },
   "outputs": [],
   "source": [
    "import os\n",
    "import pandas as pd\n",
    "\n",
    "directory_path = 'files/construction_data'\n",
    "\n",
    "file_extension = '.txt'\n",
    "\n",
    "dataframes = []\n",
    "enterez_id_pairs = set()\n",
    "\n",
    "for file in os.listdir(directory_path):\n",
    "    if file.endswith(file_extension):\n",
    "        file_path = os.path.join(directory_path, file)\n",
    "        df = pd.read_csv(file_path, delimiter='\\t')\n",
    "        df = df[~df['Experimental System'].isin(['Co-localization', 'Genetic interference'\n",
    "                                      'Synthetic Rescue', 'Synthetic Growth Defect',\n",
    "                                      'Synthetic Lethality'])]\n",
    "        df = df[(df['Entrez Gene Interactor A'] != '-') & (df['Entrez Gene Interactor B'] != '-')]\n",
    "        \n",
    "        dataframes.append(df)\n",
    "        \n",
    "#combined_data = pd.concat(dataframes, ignore_index=True)"
   ]
  },
  {
   "cell_type": "code",
   "execution_count": 2,
   "id": "8c63958a",
   "metadata": {},
   "outputs": [
    {
     "ename": "NameError",
     "evalue": "name 'unique_pairs' is not defined",
     "output_type": "error",
     "traceback": [
      "\u001b[0;31m---------------------------------------------------------------------------\u001b[0m",
      "\u001b[0;31mNameError\u001b[0m                                 Traceback (most recent call last)",
      "Cell \u001b[0;32mIn[2], line 10\u001b[0m\n\u001b[1;32m      7\u001b[0m             pair \u001b[38;5;241m=\u001b[39m \u001b[38;5;28mtuple\u001b[39m(\u001b[38;5;28msorted\u001b[39m([id_a, id_b]))\n\u001b[1;32m      8\u001b[0m             enterez_id_pairs\u001b[38;5;241m.\u001b[39madd(pair)\n\u001b[0;32m---> 10\u001b[0m \u001b[38;5;28mprint\u001b[39m(\u001b[43munique_pairs\u001b[49m)\n",
      "\u001b[0;31mNameError\u001b[0m: name 'unique_pairs' is not defined"
     ]
    }
   ],
   "source": [
    "for df in dataframes:\n",
    "    for index, row in df.iterrows():\n",
    "        id_a = row['Entrez Gene Interactor A']\n",
    "        id_b = row['Entrez Gene Interactor B']\n",
    "\n",
    "        if int(id_a) != int(id_b):\n",
    "            pair = tuple(sorted([id_a, id_b]))\n",
    "            enterez_id_pairs.add(pair)"
   ]
  },
  {
   "cell_type": "code",
   "execution_count": 3,
   "id": "7b4c09b4",
   "metadata": {},
   "outputs": [
    {
     "name": "stdout",
     "output_type": "stream",
     "text": [
      "{(1025, 9049), (3362, 9049), (9049, 440730), (9049, 55172), (9049, 54461), (9049, 391004), (604, 9049), (780, 9049), (7957, 9049), (3320, 9049), (2261, 9049), (355, 9049), (9049, 284086), (2023, 9049), (5613, 9049), (9049, 83983), (5166, 9049), (9049, 57407), (3654, 9049), (9049, 10869), (5150, 9049), (5071, 9049), (5894, 9049), (2870, 9049), (7415, 9049), (1844, 9049), (332, 9049), (9049, 9212), (5139, 9049), (9049, 10963), (8517, 9049), (8189, 9049), (9049, 27068), (9049, 80824), (4914, 9049), (9049, 83942), (9049, 348793), (9049, 25939), (5979, 9049), (9049, 43740578), (8915, 9049), (9049, 23678), (2046, 9049), (9049, 10910), (7328, 9049), (9049, 26094), (1161, 9049), (5609, 9049), (9049, 342898), (9049, 29941), (9049, 26469), (9049, 55626), (9049, 80344), (8798, 9049), (8481, 9049), (9049, 25822), (9049, 9927), (3916, 9049), (2776, 9049), (1198, 9049), (9049, 10110), (3665, 9049), (1781, 9049), (9049, 55827), (9049, 112399), (7345, 9049), (9049, 9344), (1968, 9049), (9049, 78995), (9049, 9701), (9049, 343071), (9049, 129807), (4869, 9049), (5465, 9049), (3984, 9049), (9049, 54954), (9049, 140564), (9049, 25989), (196, 9049), (1457, 9049), (2064, 9049), (9049, 55884), (9049, 10295), (9049, 9401), (9049, 9410), (9049, 84458), (9049, 55191), (9049, 54764), (8887, 9049), (3985, 9049), (9049, 23038), (369, 9049), (5550, 9049), (9049, 23239), (9049, 64581), (2783, 9049), (6714, 9049), (899, 9049), (9049, 10672), (9049, 80204), (9049, 25801), (9049, 57664), (9049, 54903), (2268, 9049), (7922, 9049), (3313, 9049), (2534, 9049), (2296, 9049), (9049, 51086), (6997, 9049), (9049, 55662), (9049, 55070), (9049, 26523), (9049, 414061), (9049, 90060), (2324, 9049), (405, 9049), (9049, 283237), (6125, 9049), (8165, 9049), (9049, 11140), (6019, 9049), (5568, 9049), (2051, 9049), (1956, 9049), (9049, 282809), (5770, 9049), (5464, 9049), (9049, 55337), (3611, 9049), (9049, 9391), (9049, 10950), (9049, 30811), (2264, 9049), (3932, 9049), (9049, 43740575), (8314, 9049), (4077, 9049), (9049, 25853), (9049, 51657), (4306, 9049), (9049, 80759), (5681, 9049), (9049, 140876), (9049, 23476), (6119, 9049), (3326, 9049), (2241, 9049), (9049, 53917), (4915, 9049), (1050, 9049), (9049, 85481), (3645, 9049), (8621, 9049), (7525, 9049), (2665, 9049), (1263, 9049), (7089, 9049), (1780, 9049), (640, 9049), (9049, 10728), (4058, 9049), (9049, 10618), (9049, 261734), (2733, 9049)}\n"
     ]
    }
   ],
   "source": [
    "print(enterez_id_pairs)"
   ]
  },
  {
   "cell_type": "code",
   "execution_count": 44,
   "id": "a543435d",
   "metadata": {},
   "outputs": [
    {
     "data": {
      "text/plain": [
       "235"
      ]
     },
     "execution_count": 44,
     "metadata": {},
     "output_type": "execute_result"
    }
   ],
   "source": [
    "len(dataframes[0])"
   ]
  },
  {
   "cell_type": "code",
   "execution_count": 17,
   "id": "657956c0",
   "metadata": {},
   "outputs": [
    {
     "data": {
      "text/plain": [
       "Index(['#BioGRID Interaction ID', 'Entrez Gene Interactor A',\n",
       "       'Entrez Gene Interactor B', 'BioGRID ID Interactor A',\n",
       "       'BioGRID ID Interactor B', 'Systematic Name Interactor A',\n",
       "       'Systematic Name Interactor B', 'Official Symbol Interactor A',\n",
       "       'Official Symbol Interactor B', 'Synonyms Interactor A',\n",
       "       'Synonyms Interactor B', 'Experimental System',\n",
       "       'Experimental System Type', 'Author', 'Publication Source',\n",
       "       'Organism ID Interactor A', 'Organism ID Interactor B', 'Throughput',\n",
       "       'Score', 'Modification', 'Qualifications', 'Tags', 'Source Database',\n",
       "       'SWISS-PROT Accessions Interactor A', 'TREMBL Accessions Interactor A',\n",
       "       'REFSEQ Accessions Interactor A', 'SWISS-PROT Accessions Interactor B',\n",
       "       'TREMBL Accessions Interactor B', 'REFSEQ Accessions Interactor B',\n",
       "       'Ontology Term IDs', 'Ontology Term Names', 'Ontology Term Categories',\n",
       "       'Ontology Term Qualifier IDs', 'Ontology Term Qualifier Names',\n",
       "       'Ontology Term Types', 'Organism Name Interactor A',\n",
       "       'Organism Name Interactor B'],\n",
       "      dtype='object')"
      ]
     },
     "execution_count": 17,
     "metadata": {},
     "output_type": "execute_result"
    }
   ],
   "source": [
    "data.columns"
   ]
  },
  {
   "cell_type": "code",
   "execution_count": 4,
   "id": "5a5d1dbd",
   "metadata": {},
   "outputs": [
    {
     "name": "stdout",
     "output_type": "stream",
     "text": [
      "ID: 140876 maps to gene symbol: RIPOR3\n"
     ]
    }
   ],
   "source": [
    "import mygene\n",
    "\n",
    "mg = mygene.MyGeneInfo()\n",
    "\n",
    "ids = ['140876']  # Ovo je Entrez ID za gene POTEF\n",
    "\n",
    "result = mg.querymany(ids, scopes='entrezgene', fields='symbol', species='human')\n",
    "\n",
    "for gene_info in result:\n",
    "    symbol = gene_info.get('symbol', 'No symbol found')\n",
    "    print(f\"ID: {gene_info['query']} maps to gene symbol: {symbol}\")"
   ]
  }
 ],
 "metadata": {
  "kernelspec": {
   "display_name": "Python 3 (ipykernel)",
   "language": "python",
   "name": "python3"
  },
  "language_info": {
   "codemirror_mode": {
    "name": "ipython",
    "version": 3
   },
   "file_extension": ".py",
   "mimetype": "text/x-python",
   "name": "python",
   "nbconvert_exporter": "python",
   "pygments_lexer": "ipython3",
   "version": "3.10.12"
  }
 },
 "nbformat": 4,
 "nbformat_minor": 5
}
