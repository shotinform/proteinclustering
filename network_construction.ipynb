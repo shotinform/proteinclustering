{
 "cells": [
  {
   "cell_type": "code",
   "execution_count": 29,
   "id": "5fc507ec",
   "metadata": {},
   "outputs": [
    {
     "name": "stdout",
     "output_type": "stream",
     "text": [
      "99685\n",
      "81277\n",
      "98144\n"
     ]
    },
    {
     "name": "stderr",
     "output_type": "stream",
     "text": [
      "/tmp/ipykernel_10499/87331942.py:14: DtypeWarning: Columns (18) have mixed types. Specify dtype option on import or set low_memory=False.\n",
      "  df = pd.read_csv(file_path, delimiter='\\t')\n"
     ]
    }
   ],
   "source": [
    "import os\n",
    "import pandas as pd\n",
    "\n",
    "directory_path = 'files/construction_data/BioGRID'\n",
    "\n",
    "file_extension = '.txt'\n",
    "\n",
    "dataframes = []\n",
    "enterez_id_pairs = set()\n",
    "\n",
    "for file in os.listdir(directory_path):\n",
    "    if file.endswith(file_extension):\n",
    "        file_path = os.path.join(directory_path, file)\n",
    "        df = pd.read_csv(file_path, delimiter='\\t')\n",
    "        df = df[(df['Entrez Gene Interactor A'] != '-') & (df['Entrez Gene Interactor B'] != '-')]\n",
    "        df = df[df['Experimental System Type'] == 'physical']\n",
    "        df = df[(df['Official Symbol Interactor A'] != '-') & (df['Official Symbol Interactor B'] != '-')]\n",
    "        print(len(df))      \n",
    "        dataframes.append(df)"
   ]
  },
  {
   "cell_type": "code",
   "execution_count": 7,
   "id": "b1485a03",
   "metadata": {},
   "outputs": [
    {
     "name": "stdout",
     "output_type": "stream",
     "text": [
      "Index(['#BioGRID Interaction ID', 'Entrez Gene Interactor A',\n",
      "       'Entrez Gene Interactor B', 'BioGRID ID Interactor A',\n",
      "       'BioGRID ID Interactor B', 'Systematic Name Interactor A',\n",
      "       'Systematic Name Interactor B', 'Official Symbol Interactor A',\n",
      "       'Official Symbol Interactor B', 'Synonyms Interactor A',\n",
      "       'Synonyms Interactor B', 'Experimental System',\n",
      "       'Experimental System Type', 'Author', 'Pubmed ID',\n",
      "       'Organism Interactor A', 'Organism Interactor B', 'Throughput', 'Score',\n",
      "       'Modification', 'Phenotypes', 'Qualifications', 'Tags',\n",
      "       'Source Database'],\n",
      "      dtype='object')\n"
     ]
    }
   ],
   "source": [
    "print(dataframes[0].columns)"
   ]
  },
  {
   "cell_type": "code",
   "execution_count": 3,
   "id": "9462e5b5",
   "metadata": {},
   "outputs": [],
   "source": [
    "official_names_mapping = {}\n",
    "for df in dataframes:\n",
    "    for index, row in df.iterrows():\n",
    "        id_a = str(row['Entrez Gene Interactor A'])\n",
    "        id_b = str(row['Entrez Gene Interactor B'])\n",
    "        \n",
    "        if id_a not in official_names_mapping:\n",
    "            official_names_mapping[id_a] = row['Official Symbol Interactor A']\n",
    "            \n",
    "        if id_b not in official_names_mapping:\n",
    "            official_names_mapping[id_b] = row['Official Symbol Interactor B']\n",
    "        \n",
    "        if id_a != id_b:\n",
    "            pair = tuple(sorted([id_a, id_b]))\n",
    "            enterez_id_pairs.add(pair)"
   ]
  },
  {
   "cell_type": "code",
   "execution_count": 4,
   "id": "40d37746",
   "metadata": {},
   "outputs": [
    {
     "data": {
      "text/plain": [
       "192650"
      ]
     },
     "execution_count": 4,
     "metadata": {},
     "output_type": "execute_result"
    }
   ],
   "source": [
    "len(enterez_id_pairs)"
   ]
  },
  {
   "cell_type": "code",
   "execution_count": 5,
   "id": "ff346157",
   "metadata": {},
   "outputs": [],
   "source": [
    "with open(\"files/network.sif\", \"w\") as file:\n",
    "    for pair in enterez_id_pairs:\n",
    "            first = official_names_mapping[pair[0]]\n",
    "            second = official_names_mapping[pair[1]]\n",
    "            \n",
    "            file.write(f\"{first}\\t-\\t{second}\\n\")"
   ]
  },
  {
   "cell_type": "markdown",
   "id": "6448f2fe",
   "metadata": {},
   "source": [
    "# Bojenje čvorova"
   ]
  },
  {
   "cell_type": "code",
   "execution_count": 7,
   "id": "9813b476",
   "metadata": {
    "scrolled": true
   },
   "outputs": [
    {
     "data": {
      "image/png": "[encoded data removed]",
      "text/plain": [
       "<Figure size 640x480 with 1 Axes>"
      ]
     },
     "metadata": {},
     "output_type": "display_data"
    }
   ],
   "source": [
    "import pandas as pd\n",
    "from matplotlib_venn import venn3\n",
    "import matplotlib.pyplot as plt\n",
    "\n",
    "file_path = 'files/disease_genes/'\n",
    "file_names = ['genes_PTA.xlsx', 'genes_T2D.xlsx', 'genes_CVD.xlsx']\n",
    "\n",
    "df1 = pd.read_excel(file_path+file_names[0])\n",
    "df2 = pd.read_excel(file_path+file_names[1])\n",
    "df3 = pd.read_excel(file_path+file_names[2])\n",
    "\n",
    "genes_PTA = set(df1['Gene'])\n",
    "genes_T2D = set(df2['Gene'])\n",
    "genes_CVD = set(df3['Gene'])\n",
    "\n",
    "intersection_PTA_T2D_not_CVD = (genes_PTA & genes_T2D) - genes_CVD\n",
    "intersection_PTA_CVD_not_T2D = (genes_PTA & genes_CVD) - genes_T2D\n",
    "intersection_T2D_CVD_not_PTA = (genes_T2D & genes_CVD) - genes_PTA\n",
    "intersection_PTA_CVD_T2D = genes_CVD & genes_PTA & genes_T2D\n",
    "\n",
    "venn3([genes_PTA, genes_T2D, genes_CVD], ('PTA', 'T2D', 'CVD'))\n",
    "\n",
    "plt.show()"
   ]
  },
  {
   "cell_type": "code",
   "execution_count": 40,
   "id": "58eb5a1a",
   "metadata": {},
   "outputs": [
    {
     "name": "stdout",
     "output_type": "stream",
     "text": [
      "You are connected to Cytoscape!\n",
      "Opening /home/korisnik/Desktop/ip2/proteinclustering/output_network.cys...\n",
      "This file has been overwritten.\n",
      "Mreža je učitana, čvorovi su obojeni i sačuvani u output_network.cys.\n"
     ]
    }
   ],
   "source": [
    "import py4cytoscape as p4c\n",
    "\n",
    "\n",
    "p4c.cytoscape_ping()\n",
    "\n",
    "p4c.session.open_session('output_network.cys')\n",
    "\n",
    "network_suid = p4c.networks.get_network_suid()\n",
    "\n",
    "def get_node_color(node):\n",
    "    if node in intersection_PTA_CVD_T2D:\n",
    "        return '#A020F0'  \n",
    "    elif node in intersection_PTA_T2D_not_CVD:\n",
    "        return '#FFD580'  \n",
    "    elif node in intersection_T2D_CVD_not_PTA:\n",
    "        return '#ADD8E6'  \n",
    "    elif node in intersection_PTA_CVD_not_T2D:\n",
    "        return '#FF1493'  \n",
    "    elif node in genes_PTA:\n",
    "        return '#FF0000'  \n",
    "    elif node in genes_CVD:\n",
    "        return '#0000FF'  \n",
    "    elif node in genes_T2D:\n",
    "        return '#008000'  \n",
    "    else:\n",
    "        return '#CCCCCC'  \n",
    "\n",
    "node_table = p4c.tables.get_table_columns('node', columns='name')\n",
    "node_names = node_table['name'].tolist()  \n",
    "\n",
    "node_colors = [get_node_color(node) for node in node_names]\n",
    "\n",
    "try:\n",
    "    p4c.style_bypasses.set_node_property_bypass(node_names, node_colors, visual_property='NODE_FILL_COLOR')\n",
    "except Exception as e:\n",
    "    print(f\"Greška prilikom primene boja na čvorove: {e}\")\n",
    "    exit()\n",
    "\n",
    "cys_file_path = 'output_network.cys'\n",
    "try:\n",
    "    p4c.session.save_session(cys_file_path)\n",
    "    print(f\"Mreža je učitana, čvorovi su obojeni i sačuvani u {cys_file_path}.\")\n",
    "except Exception as e:\n",
    "    print(f\"Greška prilikom čuvanja sesije: {e}\")"
   ]
  }
 ],
 "metadata": {
  "kernelspec": {
   "display_name": "Python 3 (ipykernel)",
   "language": "python",
   "name": "python3"
  },
  "language_info": {
   "codemirror_mode": {
    "name": "ipython",
    "version": 3
   },
   "file_extension": ".py",
   "mimetype": "text/x-python",
   "name": "python",
   "nbconvert_exporter": "python",
   "pygments_lexer": "ipython3",
   "version": "3.10.12"
  }
 },
 "nbformat": 4,
 "nbformat_minor": 5
}
