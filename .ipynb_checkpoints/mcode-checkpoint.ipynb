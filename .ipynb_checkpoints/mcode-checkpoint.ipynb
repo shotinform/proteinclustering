{
 "cells": [
  {
   "cell_type": "code",
   "execution_count": 3,
   "id": "7f8a4b1b",
   "metadata": {
    "scrolled": true
   },
   "outputs": [
    {
     "name": "stdout",
     "output_type": "stream",
     "text": [
      "Defaulting to user installation because normal site-packages is not writeable\n",
      "Requirement already satisfied: networkx in /home/korisnik/.local/lib/python3.10/site-packages (3.1)\n"
     ]
    }
   ],
   "source": [
    "!pip install networkx"
   ]
  },
  {
   "cell_type": "code",
   "execution_count": 2,
   "id": "d21612e0",
   "metadata": {},
   "outputs": [],
   "source": [
    "# Potrebna popravka, lose napisan pseudokod https://bmcbioinformatics.biomedcentral.com/articles/10.1186/1471-2105-4-2\n",
    "# postoji mcode implementiran u Cytoscape alatu\n",
    "import networkx as nx\n",
    "from networkx.algorithms.core import core_number\n",
    "\n",
    "def mcode_vertex_weigting(graph):\n",
    "    for v in graph.nodes():\n",
    "        neighbors = list(graph.neighbors(v))\n",
    "        k_core_graph = graph.subgraph(neighbors)\n",
    "        k = max(core_number(k_core_graph).values())\n",
    "        density = nx.density(k_core_graph)\n",
    "        weight = k * density\n",
    "        graph.nodes[v]['weight'] = weight\n",
    "        \n",
    "def mcode_find_complex(graph, vertex_weight_percentage, seed_vertex, complex_set):\n",
    "    if seed_vertex in complex_set:\n",
    "        return\n",
    "\n",
    "    for v in graph.neighbors(seed_vertex):\n",
    "        if vertex_weights[v]['weight'] > vertex_weights[seed_vertex]['weight'] * (1 - vertex_weight_percentage):\n",
    "            complex_set.add(v)\n",
    "            mcode_find_complex(graph, vertex_weight_percentage, v, complex_set)\n",
    "\n",
    "def mcode_find_complexes(graph, vertex_weight_percentage):\n",
    "    complexes = set()\n",
    "    \n",
    "    sorted_vertices = sorted(vertex_weights.keys(), key=lambda x: vertex_weights[x], reverse=True)\n",
    "\n",
    "    for v in sorted_vertices:\n",
    "        if v not in complexes:\n",
    "            complex_set = {v}\n",
    "            mcode_find_compelexes(graph, vertex_weight_percentage, v, complex_set)\n",
    "            complexes.update(complex_set)\n",
    "\n",
    "    return complexes\n",
    "    "
   ]
  },
  {
   "cell_type": "code",
   "execution_count": 5,
   "id": "099f9506",
   "metadata": {},
   "outputs": [
    {
     "name": "stdout",
     "output_type": "stream",
     "text": [
      "[(1, {'weight': 1.0}), (2, {'weight': 1.0}), (3, {'weight': 0.3333333333333333}), (4, {'weight': 0}), (5, {'weight': 0})]\n"
     ]
    }
   ],
   "source": [
    "if __name__ == \"__main__\":\n",
    "    # test example        \n",
    "    G = nx.Graph()\n",
    "    G.add_edges_from([(1, 2), (1, 3), (2, 3), (3, 4), (4, 5)])\n",
    "    mcode_vertex_weigting(G)\n",
    "    print(G.nodes(data=True))"
   ]
  }
 ],
 "metadata": {
  "kernelspec": {
   "display_name": "Python 3 (ipykernel)",
   "language": "python",
   "name": "python3"
  },
  "language_info": {
   "codemirror_mode": {
    "name": "ipython",
    "version": 3
   },
   "file_extension": ".py",
   "mimetype": "text/x-python",
   "name": "python",
   "nbconvert_exporter": "python",
   "pygments_lexer": "ipython3",
   "version": "3.10.12"
  }
 },
 "nbformat": 4,
 "nbformat_minor": 5
}
