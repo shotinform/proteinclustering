{
 "cells": [
  {
   "cell_type": "code",
   "execution_count": 1,
   "id": "7f8a4b1b",
   "metadata": {
    "scrolled": true
   },
   "outputs": [
    {
     "name": "stdout",
     "output_type": "stream",
     "text": [
      "Defaulting to user installation because normal site-packages is not writeable\n",
      "Requirement already satisfied: networkx in /home/bole/.local/lib/python3.10/site-packages (3.2.1)\n"
     ]
    }
   ],
   "source": [
    "!pip install networkx"
   ]
  },
  {
   "cell_type": "code",
   "execution_count": 2,
   "id": "d21612e0",
   "metadata": {},
   "outputs": [],
   "source": [
    "# Potrebna popravka, lose napisan pseudokod https://bmcbioinformatics.biomedcentral.com/articles/10.1186/1471-2105-4-2\n",
    "# postoji mcode implementiran u Cytoscape alatu\n",
    "import networkx as nx\n",
    "from networkx.algorithms.core import core_number\n",
    "\n",
    "def mcode_vertex_weigting(graph):\n",
    "    for v in graph.nodes():\n",
    "        neighbors = list(graph.neighbors(v))\n",
    "        k_core_graph = graph.subgraph(neighbors)\n",
    "        k = max(core_number(k_core_graph).values())\n",
    "        density = nx.density(k_core_graph)\n",
    "        weight = k * density\n",
    "        graph.nodes[v]['weight'] = weight\n",
    "        \n",
    "def mcode_find_complex(graph, vertex_weight_percentage, seed_vertex, complex_set):\n",
    "    if seed_vertex in complex_set:\n",
    "        return\n",
    "\n",
    "    for v in graph.neighbors(seed_vertex):\n",
    "        if vertex_weights[v]['weight'] > vertex_weights[seed_vertex]['weight'] * (1 - vertex_weight_percentage):\n",
    "            complex_set.add(v)\n",
    "            mcode_find_complex(graph, vertex_weight_percentage, v, complex_set)\n",
    "\n",
    "def mcode_find_complexes(graph, vertex_weight_percentage):\n",
    "    complexes = set()\n",
    "    \n",
    "    sorted_vertices = sorted(vertex_weights.keys(), key=lambda x: vertex_weights[x], reverse=True)\n",
    "\n",
    "    for v in sorted_vertices:\n",
    "        if v not in complexes:\n",
    "            complex_set = {v}\n",
    "            mcode_find_compelexes(graph, vertex_weight_percentage, v, complex_set)\n",
    "            complexes.update(complex_set)\n",
    "\n",
    "    return complexes\n",
    "    "
   ]
  },
  {
   "cell_type": "code",
   "execution_count": 5,
   "id": "099f9506",
   "metadata": {},
   "outputs": [
    {
     "name": "stdout",
     "output_type": "stream",
     "text": [
      "[(1, {'weight': 1.0}), (2, {'weight': 1.0}), (3, {'weight': 0.3333333333333333}), (4, {'weight': 0}), (5, {'weight': 0})]\n"
     ]
    }
   ],
   "source": [
    "if __name__ == \"__main__\":\n",
    "    # test example        \n",
    "    G = nx.Graph()\n",
    "    G.add_edges_from([(1, 2), (1, 3), (2, 3), (3, 4), (4, 5)])\n",
    "    mcode_vertex_weigting(G)\n",
    "    print(G.nodes(data=True))"
   ]
  },
  {
   "cell_type": "code",
   "execution_count": null,
   "id": "7d2ee4b3-6379-48af-916e-afb55b1322e6",
   "metadata": {},
   "outputs": [],
   "source": []
  },
  {
   "cell_type": "code",
   "execution_count": null,
   "id": "b0965bc7-0c7c-499d-a3be-18f22956dbc0",
   "metadata": {},
   "outputs": [],
   "source": []
  },
  {
   "cell_type": "code",
   "execution_count": null,
   "id": "36696fe8-60e8-477e-8ee5-3358cd2b0d5e",
   "metadata": {},
   "outputs": [],
   "source": []
  },
  {
   "cell_type": "code",
   "execution_count": null,
   "id": "149e6103-fb23-44aa-8645-8f5049ad4591",
   "metadata": {},
   "outputs": [],
   "source": []
  },
  {
   "cell_type": "code",
   "execution_count": null,
   "id": "20711dc9-da81-4ff2-b997-5068d5e4ddba",
   "metadata": {},
   "outputs": [],
   "source": []
  },
  {
   "cell_type": "code",
   "execution_count": null,
   "id": "dbce3951-1886-4535-9b1a-7a4f66528405",
   "metadata": {},
   "outputs": [],
   "source": []
  },
  {
   "cell_type": "code",
   "execution_count": null,
   "id": "3481c6b9-d662-4802-a14e-58d3f5e7cd9c",
   "metadata": {},
   "outputs": [],
   "source": []
  },
  {
   "cell_type": "code",
   "execution_count": null,
   "id": "d3603234-d8d7-4cfa-b45b-e8d99cf3d86a",
   "metadata": {},
   "outputs": [],
   "source": []
  },
  {
   "cell_type": "code",
   "execution_count": null,
   "id": "9f769425-1867-4bf7-b376-743c1969a396",
   "metadata": {},
   "outputs": [],
   "source": []
  },
  {
   "cell_type": "code",
   "execution_count": 4,
   "id": "c942d4bf-2094-4edd-b0dc-bb273485ce8e",
   "metadata": {},
   "outputs": [],
   "source": [
    "import sys\n",
    "from collections import defaultdict\n",
    "\n",
    "\n",
    "class MCODE():\n",
    "    \"\"\"Class for running and administrating Bader et al.'s MCODE algorithm\"\"\"\n",
    "\n",
    "    def __init__(self, filename, weight_threshold=0.2):\n",
    "        self.weight_threshold = 1 - weight_threshold\n",
    "        self.filename = filename\n",
    "        self.clusters = []\n",
    "\n",
    "    def cluster(self):\n",
    "        edges = defaultdict(set)  # node id => neighboring node ids\n",
    "\n",
    "        # Read edgelist\n",
    "        with open(self.filename, 'r') as f:\n",
    "            for line in f:\n",
    "                a, b = line.split()[:2]\n",
    "                edges[a].add(b)\n",
    "                edges[b].add(a)\n",
    "        print ('## Input graph loaded; %i nodes' % (len(edges),))\n",
    "\n",
    "        # Clusters list\n",
    "        clusters = []\n",
    "\n",
    "        # Stage 1: Vertex Weighting\n",
    "        print ('## Weighting vertices...')\n",
    "        weights = dict((v, 1.) for v in edges)\n",
    "        for i, v in enumerate(edges):\n",
    "            neighborhood = set((v,)) | edges[v]\n",
    "            # if node has only one neighbor, we know everything we need to know\n",
    "            if len(neighborhood) <= 2:\n",
    "                continue\n",
    "\n",
    "            # see if larger k-cores exist\n",
    "            k = 1  # highest valid k-core\n",
    "            while neighborhood:\n",
    "                k_core = neighborhood.copy()\n",
    "                invalid_nodes = True\n",
    "                while invalid_nodes and neighborhood:\n",
    "                    invalid_nodes = set(n for n in neighborhood if len(\n",
    "                        edges[n] & neighborhood) <= k)\n",
    "                    neighborhood -= invalid_nodes\n",
    "                k += 1  # on exit, k will be one greater than we want\n",
    "\n",
    "            # vertex weight = k-core number * density of k-core\n",
    "            weights[v] = (k - 1) * (sum(len(edges[n] & k_core)\n",
    "                                        for n in k_core) / (2. * len(k_core)**2))\n",
    "\n",
    "        # Stage 2: Molecular Complex Prediction\n",
    "        print('## Molecular complex prediction...')\n",
    "        unvisited = set(edges)\n",
    "        num_clusters = 0\n",
    "\n",
    "        for seed in sorted(weights, key=weights.get, reverse=True):\n",
    "            if seed not in unvisited:\n",
    "                continue\n",
    "\n",
    "            cluster, frontier = set((seed,)), set((seed,))\n",
    "            w = weights[seed] * self.weight_threshold\n",
    "            while frontier:\n",
    "                cluster.update(frontier)\n",
    "                unvisited -= frontier\n",
    "                frontier = set(n for n in set.union(\n",
    "                    *(edges[n] for n in frontier)) & unvisited if weights[n] > w)\n",
    "\n",
    "            # Haircut: only keep 2-core complexes\n",
    "            invalid_nodes = True\n",
    "            while invalid_nodes and cluster:\n",
    "                invalid_nodes = set(\n",
    "                    n for n in cluster if len(edges[n] & cluster) < 2)\n",
    "                cluster -= invalid_nodes\n",
    "\n",
    "            if cluster:\n",
    "                # fluff never really seems to improve anything...\n",
    "                # cluster.update(\n",
    "                # n for n in set.union(*(edges[c] for c in cluster)) & unvisited\n",
    "                # if densities[n] > FLUFF_THRESHOLD)\n",
    "\n",
    "                print (' '.join(cluster))\n",
    "                num_clusters += 1\n",
    "                print (num_clusters, len(cluster), seed)\n",
    "                clusters.append(cluster)\n",
    "\n",
    "        self.clusters = clusters\n",
    "\n",
    "    def save_clusters(self, filehandle):\n",
    "        \"\"\"Saves clusters, one cluster per line into the input filehandle\"\"\"\n",
    "        with open(filehandle, 'w') as fh:\n",
    "            for c in self.clusters:\n",
    "                fh.write(' '.join(c) + \"\\n\")\n",
    "                \n",
    "# if __name__ == '__main__':\n",
    "#     filename = \"../data/unweighted_example_network.txt\"\n",
    "#     c = MCODE(filename)\n",
    "#     c.cluster()\n",
    "#     c.save_clusters(\"/tmp/mcode_test.txt\")"
   ]
  },
  {
   "cell_type": "code",
   "execution_count": null,
   "id": "f77bee1a-a277-49a1-b922-abebd2357913",
   "metadata": {},
   "outputs": [],
   "source": []
  }
 ],
 "metadata": {
  "kernelspec": {
   "display_name": "Python 3 (ipykernel)",
   "language": "python",
   "name": "python3"
  },
  "language_info": {
   "codemirror_mode": {
    "name": "ipython",
    "version": 3
   },
   "file_extension": ".py",
   "mimetype": "text/x-python",
   "name": "python",
   "nbconvert_exporter": "python",
   "pygments_lexer": "ipython3",
   "version": "3.10.12"
  }
 },
 "nbformat": 4,
 "nbformat_minor": 5
}
